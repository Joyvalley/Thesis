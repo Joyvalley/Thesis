{
 "cells": [
  {
   "cell_type": "markdown",
   "metadata": {},
   "source": [
    "# Genomic prediction with neural networks\n",
    "Some preliminary experiments to find theoretical limitations and a suitable network architecture."
   ]
  },
  {
   "cell_type": "code",
   "execution_count": 117,
   "metadata": {},
   "outputs": [],
   "source": [
    "import tensorflow as tf\n",
    "import numpy as np\n",
    "\n",
    "# build simple network for two marker system (architecture 4,2)\n",
    "weights = {}\n",
    "biases = {}\n",
    "n_markers = 2\n",
    "archit = [8, 4]\n",
    "n_layers = len(archit)\n",
    "n_outputs = 1\n",
    "initial_learning_rate = 0.01\n",
    "beta = 0.01\n",
    "\n",
    "weights['h1'] = tf.Variable(tf.random_normal([n_markers, archit[0]]))\n",
    "biases['b1'] = tf.Variable(tf.random_normal([archit[0]]))\n",
    "for l in range(1,n_layers):\n",
    "    w_name = 'h' + str(l+1)\n",
    "    b_name = 'b' + str(l+1)\n",
    "    weights[w_name] = tf.Variable(tf.random_normal([archit[l-1], archit[l]]))\n",
    "    biases[b_name] = tf.Variable(tf.random_normal([archit[l]]))\n",
    "weights['out'] = tf.Variable(tf.random_normal([archit[-1], n_outputs]))\n",
    "biases['out'] = tf.Variable(tf.random_normal([n_outputs]))\n",
    "\n",
    "nn_x = tf.placeholder(tf.float32, [None, n_markers])\n",
    "nn_y = tf.placeholder(tf.float32, [None, n_outputs])\n",
    "\n",
    "layer = nn_x\n",
    "for l in range(1,n_layers+1):\n",
    "    weight_name = 'h' + str(l)\n",
    "    bias_name = 'b' + str(l)\n",
    "    layer = tf.add(tf.matmul(layer, weights[weight_name]), biases[bias_name])\n",
    "    ### CHANGE activation function here (sigmoid, relu, elu, tanh, crelu, softsign)\n",
    "    layer = tf.nn.sigmoid(layer) \n",
    "pred = tf.matmul(layer, weights['out']) + biases['out']\n",
    "\n",
    "loss = tf.reduce_mean(tf.square(pred - nn_y))   # Mean squared error\n",
    "regularizer = tf.nn.l2_loss(weights['h1']) + tf.nn.l2_loss(weights['h2'])\n",
    "loss = tf.reduce_mean(loss + beta * regularizer)\n",
    "\n",
    "global_step = tf.Variable(0, trainable=False)\n",
    "learning_rate = tf.train.exponential_decay(initial_learning_rate, global_step, 1000, 0.96, staircase=True)\n",
    "optimizer = tf.train.AdamOptimizer(learning_rate=learning_rate).minimize(loss, global_step=global_step)\n",
    "\n",
    "# Launch the graph\n",
    "sess = tf.Session()\n",
    "init = tf.global_variables_initializer()\n",
    "sess.run(init)"
   ]
  },
  {
   "cell_type": "code",
   "execution_count": 111,
   "metadata": {},
   "outputs": [],
   "source": [
    "genos = np.array([[0,0],[0,1],[1,0],[1,1]])\n",
    "phenos_xor = np.array([[0],[1],[1],[0]])\n",
    "phenos_xnor = np.array([[1],[0],[0],[1]])\n",
    "phenos_or = np.array([[0],[1],[1],[1]])\n",
    "phenos_nor = np.array([[1],[0],[0],[0]])\n",
    "phenos_and = np.array([[0],[0],[0],[1]])\n",
    "phenos_add = np.array([[0],[1],[1],[2]])\n",
    "phenos_xnor_plus_const = np.array([[3],[2],[2],[3]])\n",
    "phenos = phenos_or"
   ]
  },
  {
   "cell_type": "code",
   "execution_count": 114,
   "metadata": {},
   "outputs": [
    {
     "name": "stdout",
     "output_type": "stream",
     "text": [
      "Cost= 0.557159424\n",
      "[[1.0852737]\n",
      " [1.2009715]\n",
      " [1.1823144]\n",
      " [1.2715571]]\n"
     ]
    }
   ],
   "source": [
    "sess.run(optimizer, feed_dict = {nn_x:genos, nn_y:phenos})\n",
    "c = sess.run(loss,feed_dict = {nn_x:genos, nn_y:phenos})\n",
    "\n",
    "print(\"Cost=\", \"{:.9f}\".format(c))\n",
    "\n",
    "# Predict everything\n",
    "predicted_phenos = sess.run(pred, feed_dict={nn_x: genos})\n",
    "print(predicted_phenos)\n"
   ]
  },
  {
   "cell_type": "code",
   "execution_count": 104,
   "metadata": {},
   "outputs": [
    {
     "name": "stdout",
     "output_type": "stream",
     "text": [
      "Cost= 0.031027721\n",
      "[[0.05178803]\n",
      " [0.94714993]\n",
      " [0.9471399 ]\n",
      " [1.060502  ]]\n"
     ]
    }
   ],
   "source": [
    "for i in range(1000):\n",
    "    sess.run(optimizer, feed_dict = {nn_x:genos, nn_y:phenos})\n",
    "    c = sess.run(loss,feed_dict = {nn_x:genos, nn_y:phenos})\n",
    "\n",
    "print(\"Cost=\", \"{:.9f}\".format(c))\n",
    "\n",
    "# Predict everything\n",
    "predicted_phenos = sess.run(pred, feed_dict={nn_x: genos})\n",
    "print(predicted_phenos)"
   ]
  },
  {
   "cell_type": "code",
   "execution_count": 105,
   "metadata": {},
   "outputs": [
    {
     "data": {
      "text/plain": [
       "array([[0],\n",
       "       [1],\n",
       "       [1],\n",
       "       [1]])"
      ]
     },
     "execution_count": 105,
     "metadata": {},
     "output_type": "execute_result"
    }
   ],
   "source": [
    "phenos"
   ]
  },
  {
   "cell_type": "code",
   "execution_count": 106,
   "metadata": {},
   "outputs": [],
   "source": [
    "import os,sys,gc\n",
    "import pandas as pd\n",
    "import numpy as np\n",
    "import timeit\n",
    "from datetime import datetime\n",
    "import keras\n",
    "import tensorflow as tf\n",
    "from keras import backend as K\n",
    "from keras import layers\n",
    "from keras.models import Sequential\n",
    "from keras.layers import Dense, Dropout, GaussianNoise, AlphaDropout, Reshape\n",
    "from keras.layers import Flatten, LocallyConnected1D, LocallyConnected2D\n",
    "from keras.optimizers import Adam, Adagrad, Adadelta\n",
    "from keras.backend.tensorflow_backend import set_session\n",
    "\n"
   ]
  },
  {
   "cell_type": "code",
   "execution_count": 9,
   "metadata": {},
   "outputs": [],
   "source": [
    "learning_rate = 0.01\n",
    "JobID = 1\n",
    "ps = 25\n",
    "optim = \"adam\"\n",
    "X_file = \"KE.geno.csv\"\n",
    "Y_file = \"KE_pheno.csv\"\n",
    "CV_file = \"KE_cv_pw.csv\"\n",
    "label = \"DtSILK\"\n",
    "start_time = timeit.default_timer()\n",
    "act=\"sigmoid\n",
    "drop_rate = str('0.5,0.5,0.5')\n",
    "arc = str('63,63')\n",
    "DG = 'D,D,D,D,D,G'\n",
    "LC = True\n",
    "training_epochs = 25\n",
    "hyp = False\n"
   ]
  },
  {
   "cell_type": "code",
   "execution_count": 59,
   "metadata": {},
   "outputs": [],
   "source": [
    "def build_network(arc,drop_rate,LC,DG):\n",
    "    def add_drops(model,drop_out,k):\n",
    "        if DG[k].upper() == 'D':\n",
    "            model.add(Dropout(drop_out[0]))\n",
    "        elif DG[k].upper() == 'G':\n",
    "            model.add(GaussianNoise(drop_out[k]))\n",
    "        elif DG[k].upper() == \"A\":\n",
    "            model.add(AlphaDropout(drop_out[k]))\n",
    "        else:\n",
    "            pass\n",
    "        return model\n",
    "    DG = DG.strip().split(\",\")\n",
    "    arc = arc.strip().split(\",\")\n",
    "    archit = []\n",
    "    for layer in  arc:\n",
    "        archit.append(int(layer))\n",
    "    layer_number = len(archit)\n",
    "    drop_rate = drop_rate.strip().split(\",\")\n",
    "    drop_out = []\n",
    "    for drops in drop_rate:\n",
    "        drop_out.append(float(drops))\n",
    "    model = Sequential()\n",
    "    model.add(Dense(archit[0], kernel_initializer='truncated_normal', \n",
    "                    activation=act, activity_regularizer=keras.regularizers.l1(0.01), input_shape=(x_train.shape[1],)))\n",
    "    start=1\n",
    "    for k in range(start,len(archit)):\n",
    "        model.add(Dense(archit[k], kernel_initializer='truncated_normal', activity_regularizer=keras.regularizers.l1(0.01), activation=act))\n",
    "        model = add_drops(model,drop_out,k)\n",
    "    model.add(Dense(1, kernel_initializer='truncated_normal'))\n",
    "    return(model)\n",
    "\n",
    "\n"
   ]
  },
  {
   "cell_type": "code",
   "execution_count": 60,
   "metadata": {},
   "outputs": [],
   "source": [
    "genos = np.array([[0,0],[0,1],[1,0],[1,1]])\n",
    "phenos_xor = np.array([[0],[1],[1],[0]])\n",
    "phenos_xnor = np.array([[1],[0],[0],[1]])\n",
    "phenos_or = np.array([[0],[1],[1],[1]])\n",
    "phenos_nor = np.array([[1],[0],[0],[0]])\n",
    "phenos_and = np.array([[0],[0],[0],[1]])\n",
    "phenos_add = np.array([[0],[1],[1],[2]])\n",
    "phenos_xnor_plus_const = np.array([[3],[2],[2],[3]])\n",
    "phenos = phenos_xnor_plus_const\n",
    "x_train = genos\n",
    "LC= False\n",
    "\n",
    "model = build_network(arc,drop_rate,LC,DG)"
   ]
  },
  {
   "cell_type": "code",
   "execution_count": 61,
   "metadata": {},
   "outputs": [
    {
     "data": {
      "text/plain": [
       "'8,4'"
      ]
     },
     "execution_count": 61,
     "metadata": {},
     "output_type": "execute_result"
    }
   ],
   "source": [
    "x_train.shape\n",
    "arc"
   ]
  },
  {
   "cell_type": "code",
   "execution_count": 68,
   "metadata": {},
   "outputs": [
    {
     "data": {
      "text/plain": [
       "array([[0.5005943 ],\n",
       "       [0.8651502 ],\n",
       "       [0.92959577],\n",
       "       [1.5794135 ]], dtype=float32)"
      ]
     },
     "execution_count": 68,
     "metadata": {},
     "output_type": "execute_result"
    }
   ],
   "source": [
    "arc='8,4'\n",
    "y_train=phenos_add\n",
    "model = build_network(arc,drop_rate,LC,DG)\n",
    "model.compile(loss='mse', optimizer=Adam(lr=0.01),metrics=['accuracy'])\n",
    "model.fit(x_train,y_train, epochs=50000 , verbose=0)\n",
    "model.predict(x_train)"
   ]
  },
  {
   "cell_type": "code",
   "execution_count": 66,
   "metadata": {},
   "outputs": [
    {
     "data": {
      "text/plain": [
       "array([[0],\n",
       "       [1],\n",
       "       [1],\n",
       "       [2]])"
      ]
     },
     "execution_count": 66,
     "metadata": {},
     "output_type": "execute_result"
    }
   ],
   "source": [
    "phenos_add\n"
   ]
  },
  {
   "cell_type": "code",
   "execution_count": 43,
   "metadata": {},
   "outputs": [],
   "source": [
    "act='sigmoid'\n"
   ]
  },
  {
   "cell_type": "code",
   "execution_count": null,
   "metadata": {},
   "outputs": [],
   "source": []
  }
 ],
 "metadata": {
  "kernelspec": {
   "display_name": "Python 3",
   "language": "python",
   "name": "python3"
  },
  "language_info": {
   "codemirror_mode": {
    "name": "ipython",
    "version": 3
   },
   "file_extension": ".py",
   "mimetype": "text/x-python",
   "name": "python",
   "nbconvert_exporter": "python",
   "pygments_lexer": "ipython3",
   "version": "3.6.7"
  }
 },
 "nbformat": 4,
 "nbformat_minor": 1
}
